{
 "cells": [
  {
   "cell_type": "code",
   "execution_count": null,
   "metadata": {},
   "outputs": [],
   "source": [
    "UAV4Res = ...\n",
    "tsunami = ...\n",
    "randomUAV = ..."
   ]
  },
  {
   "cell_type": "code",
   "execution_count": null,
   "metadata": {},
   "outputs": [],
   "source": [
    "x = [[] for i in range(3)]\n",
    "y = [[] for i in range(3)] \n",
    "for x_temp, y_temp in UAV4Res:\n",
    "    x[0].append(x_temp)\n",
    "    y[0].append(x_temp)\n",
    "\n",
    "for x_temp, y_temp in tsunami:\n",
    "    x[1].append(x_temp)\n",
    "    y[1].append(x_temp)\n",
    "\n",
    "for x_temp, y_temp in randomUAV:\n",
    "    x[2].append(x_temp)\n",
    "    y[2].append(x_temp)"
   ]
  },
  {
   "cell_type": "code",
   "execution_count": null,
   "metadata": {},
   "outputs": [],
   "source": [
    "import matplotlib.pyplot as plt"
   ]
  },
  {
   "cell_type": "code",
   "execution_count": null,
   "metadata": {},
   "outputs": [],
   "source": [
    "plt.plot(x[0], y[0], label = \"UAV4Res\")\n",
    "plt.plot(x[1], y[1], label = \"tsunami\")\n",
    "plt.plot(x[2], y[2], label = \"randomUAV\")\n",
    "plt.xlabel(\"thời gian (giây)\")\n",
    "plt.ylabel(\"% map được quét\")\n",
    "plt.legend()\n",
    "plt.show()"
   ]
  }
 ],
 "metadata": {
  "kernelspec": {
   "display_name": "Python 3",
   "language": "python",
   "name": "python3"
  },
  "language_info": {
   "name": "python",
   "version": "3.10.12"
  }
 },
 "nbformat": 4,
 "nbformat_minor": 2
}
